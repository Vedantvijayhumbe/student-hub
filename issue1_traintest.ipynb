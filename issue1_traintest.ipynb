{
  "cells": [
    {
      "cell_type": "code",
      "execution_count": null,
      "metadata": {
        "colab": {
          "base_uri": "https://localhost:8080/"
        },
        "id": "zkA-g8qPqOgq",
        "outputId": "938d3699-a190-4a41-e3ff-9f7b0949bbfe"
      },
      "outputs": [
        {
          "ename": "",
          "evalue": "",
          "output_type": "error",
          "traceback": [
            "\u001b[1;31mRunning cells with 'Python 3.13.1' requires the ipykernel package.\n",
            "\u001b[1;31mRun the following command to install 'ipykernel' into the Python environment. \n",
            "\u001b[1;31mCommand: 'c:/Python313/python.exe -m pip install ipykernel -U --user --force-reinstall'"
          ]
        }
      ],
      "source": [
        "import pandas as pd\n",
        "\n",
        "df = pd.read_csv( \"wines_SPA.csv\")\n",
        "\n",
        "# here checked how much each column is empty or not\n",
        "missing_values = df.isnull().sum() / len(df) * 100\n",
        "\n",
        "df = df.dropna(subset=missing_values[missing_values < 2].index)\n",
        "\n",
        "df = df.drop(columns=missing_values[missing_values > 90].index)\n",
        "\n",
        "for col in missing_values[(missing_values >= 1) & (missing_values <= 90)].index:\n",
        "    if df[col].dtype == 'object':  # Categorical feature\n",
        "        df[col].fillna(df[col].mode()[0], inplace=True)\n",
        "    else:  # Numerical feature\n",
        "        df[col].fillna(df[col].median(), inplace=True)\n",
        "\n",
        "print(df.isnull().sum())\n"
      ]
    },
    {
      "cell_type": "code",
      "execution_count": 10,
      "metadata": {
        "colab": {
          "base_uri": "https://localhost:8080/"
        },
        "id": "cBOl1jjhrJYu",
        "outputId": "b4da990d-4374-4573-abd5-e1c1f8323dee"
      },
      "outputs": [
        {
          "name": "stdout",
          "output_type": "stream",
          "text": [
            "Fold 1: Train size = 24, Test size = 6\n",
            "Fold 2: Train size = 24, Test size = 6\n",
            "Fold 3: Train size = 24, Test size = 6\n",
            "Fold 4: Train size = 24, Test size = 6\n",
            "Fold 5: Train size = 24, Test size = 6\n"
          ]
        }
      ],
      "source": [
        "import random\n",
        "from collections import defaultdict\n",
        "\n",
        "def stratkfoldsplit(data, target_col, k=5):\n",
        "\n",
        "    stratb = defaultdict(list)\n",
        "    for row in data:\n",
        "        targv = row[target_col] if isinstance(row, dict) else row[target_col]\n",
        "        stratb[targv].append(row)\n",
        "\n",
        "\n",
        "    for key in stratb:\n",
        "        random.shuffle(stratb[key])#i shuffled between the rows\n",
        "\n",
        "\n",
        "    folds = [[] for _ in range(k)]\n",
        "    for key, rows in stratb.items():\n",
        "        for i, row in enumerate(rows):\n",
        "            folds[i % k].append(row)# Create k folds\n",
        "\n",
        "\n",
        "    split = []\n",
        "    for i in range(k):\n",
        "        test_set = folds[i]\n",
        "        train_set = [row for j, fold in enumerate(folds) if j != i for row in fold]\n",
        "        split.append((train_set, test_set))\n",
        "    # getting traintest data\n",
        "    return split\n",
        "\n",
        "\n",
        "dataset = [[i, (i % 3)] for i in range(30)]\n",
        "split = stratkfoldsplit(dataset, target_col=1, k=5)\n",
        "for i, (train, test) in enumerate(split):\n",
        "    print(f\"Fold {i+1}: Train size = {len(train)}, Test size = {len(test)}\")#testing this (took idea from llm about testing )\n"
      ]
    }
  ],
  "metadata": {
    "colab": {
      "provenance": []
    },
    "kernelspec": {
      "display_name": "Python 3",
      "name": "python3"
    },
    "language_info": {
      "name": "python",
      "version": "3.13.1"
    }
  },
  "nbformat": 4,
  "nbformat_minor": 0
}
